{
 "cells": [
  {
   "cell_type": "markdown",
   "id": "167a7673",
   "metadata": {},
   "source": [
    "# Data Fitting and MCMC Homework Solutions\n",
    "\n",
    "March 8 2024\n",
    "\n",
    "ASTR5900 - Computational Astrophysics\n",
    "\n",
    "Stephanie, Chanuntorn, Cosme, Gil\n",
    "\n",
    "_____"
   ]
  },
  {
   "cell_type": "code",
   "execution_count": 1,
   "id": "82ba9bd0",
   "metadata": {},
   "outputs": [],
   "source": [
    "#we import the required libraries\n",
    "import numpy as np\n",
    "import matplotlib.pyplot as plt\n",
    "from scipy.stats import chisquare"
   ]
  },
  {
   "cell_type": "markdown",
   "id": "76277d33",
   "metadata": {},
   "source": [
    "# Question 1"
   ]
  },
  {
   "cell_type": "markdown",
   "id": "e675cb56",
   "metadata": {},
   "source": [
    "## 1a\n",
    "Sample 10 points from the following equation in the range of [0,9]:\n",
    "\n",
    "$$y = 3x - 5$$\n",
    "\n",
    "Write your own least squares linear fitting function and apply it to your generated data. Does the least squares method recover the equation? \n",
    "\n",
    "______"
   ]
  },
  {
   "cell_type": "markdown",
   "id": "cfd44f78",
   "metadata": {},
   "source": [
    "We code up our equation first and evenly sample it in the range required:"
   ]
  },
  {
   "cell_type": "code",
   "execution_count": 2,
   "id": "5cc8ad27",
   "metadata": {},
   "outputs": [],
   "source": [
    "#the function\n",
    "def func1a(x):\n",
    "    return (3*x) - 5"
   ]
  },
  {
   "cell_type": "code",
   "execution_count": 3,
   "id": "52b2921a",
   "metadata": {},
   "outputs": [],
   "source": [
    "#generating our x values:\n",
    "xlst_1a = np.linspace(0,9,10)\n",
    "#generating our y values:\n",
    "ylst_1a = func1a(xlst_1a)"
   ]
  },
  {
   "cell_type": "markdown",
   "id": "6e100be8",
   "metadata": {},
   "source": [
    "For a set of data that can be fit by a linear function, $f(x) = a + bx$, we can determine parameters $a$ and $b$ by calculating the following:\n",
    "\n",
    "$$ a = \\frac{\\sum y_i \\sum x_i^2 - \\sum x_i \\sum x_i y_i}\n",
    "{N \\sum x_i^2 - (\\sum x_i)^2} $$\n",
    "\n",
    "$$b = \\frac{N\\sum x_i y_i - \\sum x_i \\sum y_i}{N \\sum x_i^2 - (\\sum x_i)^2}\n",
    "$$\n",
    "\n",
    "We code this below."
   ]
  },
  {
   "cell_type": "code",
   "execution_count": 4,
   "id": "26c80d5e",
   "metadata": {},
   "outputs": [],
   "source": [
    "#fit linear data with a line of best fit. We calculate its slope and y-int\n",
    "def linear_least_square(x,y):\n",
    "    '''\n",
    "    Uses the least square numerical method to fit a function of the form\n",
    "    f(x) = a + b*x to the set of data (x,y)\n",
    "    \n",
    "    input:\n",
    "        - x: list of x values\n",
    "        - y: list of y values\n",
    "        \n",
    "    ouput:\n",
    "        - A: the y intercept of the calculated line of best fit\n",
    "        - B: the slope of the calculated line of best fit\n",
    "    '''\n",
    "    N=float(len(x))\n",
    "    #A= y-int, B= slope\n",
    "    delta=(N*(np.sum(x**2)))-((np.sum(x))**2)\n",
    "    A_top=((np.sum(y))*(np.sum(x**2)))-((np.sum(x))*(np.sum(x*y)))\n",
    "    A=(A_top)/(delta)\n",
    "    B_top=((N*(np.sum(x*y)))-((np.sum(x))*(np.sum(y))))\n",
    "    B=(B_top)/(delta)\n",
    "    return A,B"
   ]
  },
  {
   "cell_type": "markdown",
   "id": "ac610657",
   "metadata": {},
   "source": [
    "We now apply our linear least square function to our generated data:"
   ]
  },
  {
   "cell_type": "code",
   "execution_count": 5,
   "id": "0310c9cc",
   "metadata": {},
   "outputs": [],
   "source": [
    "yint_1a, slope_1a = linear_least_square(xlst_1a,ylst_1a)"
   ]
  },
  {
   "cell_type": "code",
   "execution_count": 6,
   "id": "f0a98761",
   "metadata": {},
   "outputs": [
    {
     "name": "stdout",
     "output_type": "stream",
     "text": [
      "Using our linear least square function, we obtain a best fit line of:\n",
      " y = -5.0 + 3.0*x\n"
     ]
    }
   ],
   "source": [
    "print('Using our linear least square function, we obtain a best fit line of:\\n y = {} + {}*x'.format(yint_1a,slope_1a))"
   ]
  },
  {
   "cell_type": "markdown",
   "id": "cf0db82a",
   "metadata": {},
   "source": [
    "We arrive back to our original function, so our linear least square function works!\n",
    "\n",
    "Let's plot it for fun:"
   ]
  },
  {
   "cell_type": "code",
   "execution_count": 7,
   "id": "effc9698",
   "metadata": {},
   "outputs": [
    {
     "data": {
      "image/png": "[encoded data removed]",
      "text/plain": [
       "<Figure size 640x480 with 1 Axes>"
      ]
     },
     "metadata": {},
     "output_type": "display_data"
    }
   ],
   "source": [
    "plt.scatter(xlst_1a,ylst_1a,color='k',label='data')\n",
    "plt.plot(xlst_1a,-5 + 3*xlst_1a,color='k',label='line of best fit')\n",
    "plt.legend(frameon=False)\n",
    "plt.xlabel('x')\n",
    "plt.ylabel('y')\n",
    "plt.show()"
   ]
  },
  {
   "cell_type": "markdown",
   "id": "32ae6a06",
   "metadata": {},
   "source": [
    "______\n",
    "## 1b\n",
    "\n",
    "Now take the data provided in data_question1.txt. Find the linear equation that best fits the data using your own function.\n",
    "\n",
    "_____"
   ]
  },
  {
   "cell_type": "code",
   "execution_count": 8,
   "id": "c3026267",
   "metadata": {},
   "outputs": [],
   "source": [
    "#we import the data using pandas\n",
    "#you are free to import using your preferred method\n",
    "import pandas as pd"
   ]
  },
  {
   "cell_type": "code",
   "execution_count": 9,
   "id": "abf6f682",
   "metadata": {},
   "outputs": [],
   "source": [
    "#path to data\n",
    "data_loc = '../data/'\n",
    "#read in the data\n",
    "data1 = pd.read_csv(data_loc+'data_question1.txt',sep='\\t',index_col=None)"
   ]
  },
  {
   "cell_type": "code",
   "execution_count": 10,
   "id": "a082d853",
   "metadata": {},
   "outputs": [
    {
     "data": {
      "text/html": [
       "<div>\n",
       "<style scoped>\n",
       "    .dataframe tbody tr th:only-of-type {\n",
       "        vertical-align: middle;\n",
       "    }\n",
       "\n",
       "    .dataframe tbody tr th {\n",
       "        vertical-align: top;\n",
       "    }\n",
       "\n",
       "    .dataframe thead th {\n",
       "        text-align: right;\n",
       "    }\n",
       "</style>\n",
       "<table border=\"1\" class=\"dataframe\">\n",
       "  <thead>\n",
       "    <tr style=\"text-align: right;\">\n",
       "      <th></th>\n",
       "      <th>x</th>\n",
       "      <th>y</th>\n",
       "    </tr>\n",
       "  </thead>\n",
       "  <tbody>\n",
       "    <tr>\n",
       "      <th>0</th>\n",
       "      <td>0.205070</td>\n",
       "      <td>1.452297</td>\n",
       "    </tr>\n",
       "    <tr>\n",
       "      <th>1</th>\n",
       "      <td>0.340385</td>\n",
       "      <td>-2.274580</td>\n",
       "    </tr>\n",
       "    <tr>\n",
       "      <th>2</th>\n",
       "      <td>0.485857</td>\n",
       "      <td>2.513888</td>\n",
       "    </tr>\n",
       "    <tr>\n",
       "      <th>3</th>\n",
       "      <td>0.722590</td>\n",
       "      <td>1.106844</td>\n",
       "    </tr>\n",
       "    <tr>\n",
       "      <th>4</th>\n",
       "      <td>0.770046</td>\n",
       "      <td>0.311583</td>\n",
       "    </tr>\n",
       "  </tbody>\n",
       "</table>\n",
       "</div>"
      ],
      "text/plain": [
       "          x         y\n",
       "0  0.205070  1.452297\n",
       "1  0.340385 -2.274580\n",
       "2  0.485857  2.513888\n",
       "3  0.722590  1.106844\n",
       "4  0.770046  0.311583"
      ]
     },
     "execution_count": 10,
     "metadata": {},
     "output_type": "execute_result"
    }
   ],
   "source": [
    "#visually inspect first 5 rows of data\n",
    "data1.head()"
   ]
  },
  {
   "cell_type": "markdown",
   "id": "157ece97",
   "metadata": {},
   "source": [
    "We use our fxn again to fit the data:"
   ]
  },
  {
   "cell_type": "code",
   "execution_count": 11,
   "id": "10dbb528",
   "metadata": {},
   "outputs": [],
   "source": [
    "yint_1b, slope_1b = linear_least_square(data1['x'],data1['y'])"
   ]
  },
  {
   "cell_type": "code",
   "execution_count": 12,
   "id": "d537918d",
   "metadata": {},
   "outputs": [
    {
     "name": "stdout",
     "output_type": "stream",
     "text": [
      "Using our linear least square function, we obtain a best fit line of:\n",
      " y = -7.27 + 4.12*x\n"
     ]
    }
   ],
   "source": [
    "print('Using our linear least square function, we obtain a best fit line of:\\n y = {:.2f} + {:.2f}*x'.format(yint_1b,slope_1b))"
   ]
  },
  {
   "cell_type": "markdown",
   "id": "fb124d54",
   "metadata": {},
   "source": [
    "Let's visually inspect our data:"
   ]
  },
  {
   "cell_type": "code",
   "execution_count": 13,
   "id": "8e88f878",
   "metadata": {},
   "outputs": [
    {
     "data": {
      "image/png": "[encoded data removed]",
      "text/plain": [
       "<Figure size 640x480 with 1 Axes>"
      ]
     },
     "metadata": {},
     "output_type": "display_data"
    }
   ],
   "source": [
    "plt.scatter(data1['x'],data1['y'],color='k',label='data',s=8)\n",
    "plt.plot(data1['x'],yint_1b + slope_1b*data1['x'],color='k',label='line of best fit')\n",
    "plt.legend(frameon=False)\n",
    "plt.xlabel('x')\n",
    "plt.ylabel('y')\n",
    "plt.show()"
   ]
  },
  {
   "cell_type": "code",
   "execution_count": 14,
   "id": "af3623eb",
   "metadata": {},
   "outputs": [
    {
     "data": {
      "image/png": "[encoded data removed]",
      "text/plain": [
       "<Figure size 640x480 with 1 Axes>"
      ]
     },
     "metadata": {},
     "output_type": "display_data"
    }
   ],
   "source": [
    "#we plot the residuals of our data as well\n",
    "line_of_best_fit_1b = yint_1b + slope_1b*data1['x']\n",
    "residuals = (line_of_best_fit_1b - data1['y'])\n",
    "\n",
    "plt.scatter(data1['x'],residuals,color='k',s=8)\n",
    "plt.axhline(0.0,color='k')\n",
    "plt.xlabel('x')\n",
    "plt.ylabel('linear fit - data')\n",
    "plt.show()"
   ]
  },
  {
   "cell_type": "markdown",
   "id": "f1516b65",
   "metadata": {},
   "source": [
    "Visually, the fit doesn't seem too great. We can check the wellness of fit by looking at the standard deviation of the residuals:"
   ]
  },
  {
   "cell_type": "code",
   "execution_count": 15,
   "id": "9d30794e",
   "metadata": {},
   "outputs": [
    {
     "name": "stdout",
     "output_type": "stream",
     "text": [
      "the standard deviation of the residuals is: 4.58\n"
     ]
    }
   ],
   "source": [
    "print('the standard deviation of the residuals is: {:.2f}'.format(np.std(residuals)))"
   ]
  },
  {
   "cell_type": "markdown",
   "id": "9b1cd40b",
   "metadata": {},
   "source": [
    "_____\n",
    "### 1c\n",
    "\n",
    "Now use the numpy.linalg.lstsq fit function to fit a linear line and a 2nd order polynomial to the provided data. Which is a better fit? Feel free to use any statistical tools (e.g. standard deviation of the residuals, chi-squared calculation, etc.) to determine the accuracy of the fit.\n",
    "\n",
    "_____"
   ]
  },
  {
   "cell_type": "markdown",
   "id": "b1d617e7",
   "metadata": {},
   "source": [
    "np.linalg.lstsq requires that you create a matrix. The right most column is a column of ones representing the coefficient in front of $x^0$. The column to the left of the ones column contains our x data and represents the coefficient in front of $x^1$."
   ]
  },
  {
   "cell_type": "code",
   "execution_count": 16,
   "id": "8e0be48c",
   "metadata": {},
   "outputs": [
    {
     "name": "stdout",
     "output_type": "stream",
     "text": [
      "The slope is  4.115797354745438\n",
      "The intercept is  -7.2659019235318505\n"
     ]
    }
   ],
   "source": [
    "#we construct our array of ones\n",
    "v0 = np.ones(len(data1['x']))\n",
    "#construct our a_1*x^1 data\n",
    "v1 = data1['x']\n",
    "#pass our y data to a variable for easier handling\n",
    "y_data = data1['y']\n",
    "#we create our matrix using the arrays made above and transpose it.\n",
    "matrix1c_linear = np.vstack( [v1,v0]).T\n",
    "#now we pass our matrix and y data to lstsq()\n",
    "linear_model_params = np.linalg.lstsq(matrix1c_linear, y_data, rcond=None)[0]\n",
    "#let's read out our data:\n",
    "slope_linear = linear_model_params[0]\n",
    "intercept_linear = linear_model_params[1]\n",
    "\n",
    "print ('The slope is ',slope_linear)\n",
    "print ('The intercept is ',intercept_linear)"
   ]
  },
  {
   "cell_type": "markdown",
   "id": "053f247f",
   "metadata": {},
   "source": [
    "This is roughly the same equation we derived with our linear least squares function.\n",
    "\n",
    "We can now use least squares fitting for a quadratic of the form $f(x) = a_0 + a_1x + a_2x^2$."
   ]
  },
  {
   "cell_type": "code",
   "execution_count": 27,
   "id": "1a06c13a",
   "metadata": {},
   "outputs": [
    {
     "name": "stdout",
     "output_type": "stream",
     "text": [
      "the fit parameters are f(x)=1.61 + -1.24x + 0.53x*x\n"
     ]
    }
   ],
   "source": [
    "#we need to create another column in our matrix representing the squared terms:\n",
    "v2 = v1*v1\n",
    "#we now create a matrix that has an additional column to the left\n",
    "matrix1c_quad = np.vstack([v2,v1,v0]).T\n",
    "quad_model_params = np.linalg.lstsq(matrix1c_quad, y_data, rcond=None)[0]\n",
    "\n",
    "#we passed a matrix with 3 columns so 3 fit parameters are returned\n",
    "a0 = quad_model_params[2]       \n",
    "a1 = quad_model_params[1]\n",
    "a2 = quad_model_params[0]\n",
    "\n",
    "print('the fit parameters are f(x)={:.2f} + {:.2f}x + {:.2f}x*x'.format(a0,a1,a2))"
   ]
  },
  {
   "cell_type": "markdown",
   "id": "942eb08d",
   "metadata": {},
   "source": [
    "Let's check the fit visually first:"
   ]
  },
  {
   "cell_type": "code",
   "execution_count": 18,
   "id": "7b84e55f",
   "metadata": {},
   "outputs": [
    {
     "data": {
      "image/png": "[encoded data removed]",
      "text/plain": [
       "<Figure size 640x480 with 1 Axes>"
      ]
     },
     "metadata": {},
     "output_type": "display_data"
    }
   ],
   "source": [
    "plt.scatter(data1['x'],data1['y'],color='k',label='data',s=8,alpha=0.5)\n",
    "plt.plot(data1['x'],a0 + a1*data1['x'] + a2*data1['x']**2,color='k',linestyle='-',label='line of best fit')\n",
    "plt.legend(frameon=False)\n",
    "plt.xlabel('x')\n",
    "plt.ylabel('y')\n",
    "plt.show()"
   ]
  },
  {
   "cell_type": "code",
   "execution_count": 19,
   "id": "a0a2c9c6",
   "metadata": {},
   "outputs": [
    {
     "data": {
      "image/png": "[encoded data removed]",
      "text/plain": [
       "<Figure size 640x480 with 1 Axes>"
      ]
     },
     "metadata": {},
     "output_type": "display_data"
    }
   ],
   "source": [
    "quad_fit_1c = a0 + a1*data1['x'] + a2*data1['x']**2\n",
    "residuals_quad = (quad_fit_1c - data1['y'])\n",
    "plt.scatter(data1['x'],residuals_quad,color='k',s=8)\n",
    "plt.axhline(0.0,color='k')\n",
    "plt.xlabel('x')\n",
    "plt.ylabel('quadratic fit - data')\n",
    "plt.show()"
   ]
  },
  {
   "cell_type": "markdown",
   "id": "99168d47",
   "metadata": {},
   "source": [
    "Visually the fit looks very good. We can verify this statistically:"
   ]
  },
  {
   "cell_type": "code",
   "execution_count": 20,
   "id": "9db69b16",
   "metadata": {},
   "outputs": [
    {
     "name": "stdout",
     "output_type": "stream",
     "text": [
      "the standard deviation of the residuals is: 2.07\n"
     ]
    }
   ],
   "source": [
    "quad_fit_1c = a0 + a1*data1['x'] + a2*data1['x']**2\n",
    "residuals_quad = (quad_fit_1c - data1['y'])\n",
    "print('the standard deviation of the residuals is: {:.2f}'.format(np.std(residuals_quad)))"
   ]
  },
  {
   "cell_type": "markdown",
   "id": "1f338625",
   "metadata": {},
   "source": [
    "The quadratic fit clearly does a better job fitting the data, both visually and statistically."
   ]
  },
  {
   "cell_type": "markdown",
   "id": "2a05af86",
   "metadata": {},
   "source": [
    "# Question 2"
   ]
  },
  {
   "cell_type": "markdown",
   "id": "fc26ed13",
   "metadata": {},
   "source": [
    "# Question 3\n",
    "\n",
    "Classical cepheid stars are population I variable stars that have a pulsation period that is related to their luminosity. This relation was first discovered by Henrietta Swan Leavitt in 1908 after her study of variable stars in the Magellanic Clouds. The relation is now called the Leavitt Law."
   ]
  },
  {
   "cell_type": "markdown",
   "id": "67172dad",
   "metadata": {},
   "source": [
    "## 3a\n",
    "\n",
    "To construct the Leavitt Law, we must first obtain pulsation periods. In the data file called delta_cephei_s_24.csv, you will find TESS data for Delta Cephei, a famous cepheid variable. Using MCMC, find the period of the pulsations of Delta Cephei by fitting the data to a sine wave."
   ]
  },
  {
   "cell_type": "markdown",
   "id": "d5a192aa",
   "metadata": {},
   "source": [
    "## 3b\n",
    "In practice, we would need to fit multiple stars. We have done this for you. In the cepheids.txt file, you will find a list of cepheids with their associated absolute magnitude (M_v) and period of variability (P). Using your least squares regression function or np.linalg.lstsq, derive the Leavitt Law, which is in the form of:\n",
    "$$M_v = \\alpha + \\beta[\\log(P) -1]$$\n",
    "\n",
    "where $\\alpha$ is the y intercept and $\\beta$ is the slope."
   ]
  },
  {
   "cell_type": "code",
   "execution_count": 21,
   "id": "c88f236b",
   "metadata": {},
   "outputs": [],
   "source": [
    "#let's first read in the data using pandas:\n",
    "cepheids = pd.read_csv(data_loc+'cepheids.txt',sep='\\t',index_col = None)"
   ]
  },
  {
   "cell_type": "code",
   "execution_count": 22,
   "id": "b3fb0bea",
   "metadata": {},
   "outputs": [
    {
     "data": {
      "text/html": [
       "<div>\n",
       "<style scoped>\n",
       "    .dataframe tbody tr th:only-of-type {\n",
       "        vertical-align: middle;\n",
       "    }\n",
       "\n",
       "    .dataframe tbody tr th {\n",
       "        vertical-align: top;\n",
       "    }\n",
       "\n",
       "    .dataframe thead th {\n",
       "        text-align: right;\n",
       "    }\n",
       "</style>\n",
       "<table border=\"1\" class=\"dataframe\">\n",
       "  <thead>\n",
       "    <tr style=\"text-align: right;\">\n",
       "      <th></th>\n",
       "      <th>M_v</th>\n",
       "      <th>P</th>\n",
       "    </tr>\n",
       "  </thead>\n",
       "  <tbody>\n",
       "    <tr>\n",
       "      <th>0</th>\n",
       "      <td>-5.352</td>\n",
       "      <td>35.5513</td>\n",
       "    </tr>\n",
       "    <tr>\n",
       "      <th>1</th>\n",
       "      <td>-3.958</td>\n",
       "      <td>10.1507</td>\n",
       "    </tr>\n",
       "    <tr>\n",
       "      <th>2</th>\n",
       "      <td>-4.034</td>\n",
       "      <td>9.8424</td>\n",
       "    </tr>\n",
       "    <tr>\n",
       "      <th>3</th>\n",
       "      <td>-3.973</td>\n",
       "      <td>7.5949</td>\n",
       "    </tr>\n",
       "    <tr>\n",
       "      <th>4</th>\n",
       "      <td>-3.668</td>\n",
       "      <td>7.0128</td>\n",
       "    </tr>\n",
       "  </tbody>\n",
       "</table>\n",
       "</div>"
      ],
      "text/plain": [
       "     M_v        P\n",
       "0 -5.352  35.5513\n",
       "1 -3.958  10.1507\n",
       "2 -4.034   9.8424\n",
       "3 -3.973   7.5949\n",
       "4 -3.668   7.0128"
      ]
     },
     "execution_count": 22,
     "metadata": {},
     "output_type": "execute_result"
    }
   ],
   "source": [
    "#inspect the first 5 rows of data:\n",
    "cepheids.head()"
   ]
  },
  {
   "cell_type": "markdown",
   "id": "c482aa68",
   "metadata": {},
   "source": [
    "let's add a column for the calculation of $\\log(P)-1$:"
   ]
  },
  {
   "cell_type": "code",
   "execution_count": 23,
   "id": "7bc53846",
   "metadata": {},
   "outputs": [],
   "source": [
    "cepheids['log_Pminus1'] = np.log10(cepheids['P'])-1"
   ]
  },
  {
   "cell_type": "code",
   "execution_count": 24,
   "id": "fd694dda",
   "metadata": {},
   "outputs": [
    {
     "data": {
      "text/html": [
       "<div>\n",
       "<style scoped>\n",
       "    .dataframe tbody tr th:only-of-type {\n",
       "        vertical-align: middle;\n",
       "    }\n",
       "\n",
       "    .dataframe tbody tr th {\n",
       "        vertical-align: top;\n",
       "    }\n",
       "\n",
       "    .dataframe thead th {\n",
       "        text-align: right;\n",
       "    }\n",
       "</style>\n",
       "<table border=\"1\" class=\"dataframe\">\n",
       "  <thead>\n",
       "    <tr style=\"text-align: right;\">\n",
       "      <th></th>\n",
       "      <th>M_v</th>\n",
       "      <th>P</th>\n",
       "      <th>log_Pminus1</th>\n",
       "    </tr>\n",
       "  </thead>\n",
       "  <tbody>\n",
       "    <tr>\n",
       "      <th>0</th>\n",
       "      <td>-5.352</td>\n",
       "      <td>35.5513</td>\n",
       "      <td>0.550855</td>\n",
       "    </tr>\n",
       "    <tr>\n",
       "      <th>1</th>\n",
       "      <td>-3.958</td>\n",
       "      <td>10.1507</td>\n",
       "      <td>0.006496</td>\n",
       "    </tr>\n",
       "    <tr>\n",
       "      <th>2</th>\n",
       "      <td>-4.034</td>\n",
       "      <td>9.8424</td>\n",
       "      <td>-0.006899</td>\n",
       "    </tr>\n",
       "    <tr>\n",
       "      <th>3</th>\n",
       "      <td>-3.973</td>\n",
       "      <td>7.5949</td>\n",
       "      <td>-0.119478</td>\n",
       "    </tr>\n",
       "    <tr>\n",
       "      <th>4</th>\n",
       "      <td>-3.668</td>\n",
       "      <td>7.0128</td>\n",
       "      <td>-0.154109</td>\n",
       "    </tr>\n",
       "  </tbody>\n",
       "</table>\n",
       "</div>"
      ],
      "text/plain": [
       "     M_v        P  log_Pminus1\n",
       "0 -5.352  35.5513     0.550855\n",
       "1 -3.958  10.1507     0.006496\n",
       "2 -4.034   9.8424    -0.006899\n",
       "3 -3.973   7.5949    -0.119478\n",
       "4 -3.668   7.0128    -0.154109"
      ]
     },
     "execution_count": 24,
     "metadata": {},
     "output_type": "execute_result"
    }
   ],
   "source": [
    "#we inspect our dataframe again:\n",
    "cepheids.head()"
   ]
  },
  {
   "cell_type": "markdown",
   "id": "ff18f344",
   "metadata": {},
   "source": [
    "We now use our linear least squares function to find the line of best fit:"
   ]
  },
  {
   "cell_type": "code",
   "execution_count": 25,
   "id": "140f870a",
   "metadata": {},
   "outputs": [
    {
     "name": "stdout",
     "output_type": "stream",
     "text": [
      "The line of best fit is:\n",
      " y = -4.04 + -2.43*x\n"
     ]
    }
   ],
   "source": [
    "yint_3b, slope_3b = linear_least_square(cepheids['log_Pminus1'],cepheids['M_v'])\n",
    "print('The line of best fit is:\\n y = {:.2f} + {:.2f}*x'.format(yint_3b,slope_3b))\n"
   ]
  },
  {
   "cell_type": "markdown",
   "id": "797f4ce1",
   "metadata": {},
   "source": [
    "We see that our result matches with period-luminosity relations found in the [literature](https://ui.adsabs.harvard.edu/abs/2001ApJ...553...47F/abstract).\n",
    "\n",
    "Let's now plot the PLR:"
   ]
  },
  {
   "cell_type": "code",
   "execution_count": 26,
   "id": "a6f8eee1",
   "metadata": {},
   "outputs": [
    {
     "data": {
      "image/png": "[encoded data removed]",
      "text/plain": [
       "<Figure size 640x480 with 1 Axes>"
      ]
     },
     "metadata": {},
     "output_type": "display_data"
    }
   ],
   "source": [
    "plt.scatter(cepheids['log_Pminus1'],cepheids['M_v'],color='red',marker='+',label='cepheids')\n",
    "plt.plot(cepheids['log_Pminus1'],yint_3b + slope_3b*cepheids['log_Pminus1'],color='k',label='Leavitt Law')\n",
    "plt.legend(frameon=False)\n",
    "plt.ylabel(r'$M_v$')\n",
    "plt.xlabel('log(P)-1')\n",
    "plt.gca().invert_yaxis()\n",
    "plt.show()"
   ]
  },
  {
   "cell_type": "code",
   "execution_count": null,
   "id": "d91dae80",
   "metadata": {},
   "outputs": [],
   "source": []
  }
 ],
 "metadata": {
  "kernelspec": {
   "display_name": "Python 3 (ipykernel)",
   "language": "python",
   "name": "python3"
  },
  "language_info": {
   "codemirror_mode": {
    "name": "ipython",
    "version": 3
   },
   "file_extension": ".py",
   "mimetype": "text/x-python",
   "name": "python",
   "nbconvert_exporter": "python",
   "pygments_lexer": "ipython3",
   "version": "3.10.9"
  }
 },
 "nbformat": 4,
 "nbformat_minor": 5
}
