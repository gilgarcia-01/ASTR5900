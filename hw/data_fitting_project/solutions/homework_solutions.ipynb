{
 "cells": [
  {
   "cell_type": "markdown",
   "id": "167a7673",
   "metadata": {},
   "source": [
    "# Data Fitting and MCMC Homework Solutions\n",
    "\n",
    "March 8 2024\n",
    "\n",
    "ASTR5900 - Computational Astrophysics\n",
    "\n",
    "Stephanie, Chanuntorn, Cosme, Gil\n",
    "\n",
    "_____"
   ]
  },
  {
   "cell_type": "code",
   "execution_count": 3,
   "id": "82ba9bd0",
   "metadata": {},
   "outputs": [],
   "source": [
    "#we import the required libraries\n",
    "import numpy as np"
   ]
  },
  {
   "cell_type": "markdown",
   "id": "76277d33",
   "metadata": {},
   "source": [
    "# Question 1"
   ]
  },
  {
   "cell_type": "markdown",
   "id": "e675cb56",
   "metadata": {},
   "source": [
    "## 1a\n",
    "Sample 10 points from the following equation in the range of [0,9]:\n",
    "\n",
    "$$y = 3x - 5$$\n",
    "\n",
    "Write your own least squares linear fitting function and apply it to your generated data. Does the least squares method recover the equation? \n",
    "\n",
    "______"
   ]
  },
  {
   "cell_type": "markdown",
   "id": "cfd44f78",
   "metadata": {},
   "source": [
    "We code up our equation first and evenly sample it in the range required:"
   ]
  },
  {
   "cell_type": "code",
   "execution_count": 1,
   "id": "5cc8ad27",
   "metadata": {},
   "outputs": [],
   "source": [
    "#the function\n",
    "def func1a(x):\n",
    "    return (3*x) - 5"
   ]
  },
  {
   "cell_type": "code",
   "execution_count": 8,
   "id": "52b2921a",
   "metadata": {},
   "outputs": [],
   "source": [
    "#generating our x values:\n",
    "xlst_1a = np.linspace(0,9,10)\n",
    "#generating our y values:\n",
    "ylst_1a = func1a(xlst_1a)"
   ]
  },
  {
   "cell_type": "markdown",
   "id": "6e100be8",
   "metadata": {},
   "source": [
    "For a set of data that is fit by a function, $f(x) = a + bx$, we can determine parameters $a$ and $b$ by calculating the following:\n",
    "\n",
    "$$ a = \\frac{\\sum y_i \\sum x_i^2 - \\sum x_i \\sum x_i y_i}\n",
    "{N \\sum x_i^2 - (\\sum x_i)^2} $$\n",
    "\n",
    "$$b = \\frac{N\\sum x_i y_i - \\sum x_i \\sum y_i}{N \\sum x_i^2 - (\\sum x_i)^2}\n",
    "$$\n",
    "\n",
    "We code this below."
   ]
  },
  {
   "cell_type": "code",
   "execution_count": 9,
   "id": "26c80d5e",
   "metadata": {},
   "outputs": [],
   "source": [
    "#To find the line of best fit's slope and y-int\n",
    "def linear_least_square(x,y):\n",
    "    '''\n",
    "    Uses the least square numerical method to fit a function of the form\n",
    "    f(x) = a + b*x to the set of data (x,y)\n",
    "    \n",
    "    input:\n",
    "        - x: list of x values\n",
    "        - y: list of y values\n",
    "        \n",
    "    ouput:\n",
    "        - A: the y intercept of the calculated line of best fit\n",
    "        - B: the slope of the calculated line of best fit\n",
    "    '''\n",
    "    N=float(len(x))\n",
    "    #A= y-int, B= slope\n",
    "    delta=(N*(np.sum(x**2)))-((np.sum(x))**2)\n",
    "    A_top=((np.sum(y))*(np.sum(x**2)))-((np.sum(x))*(np.sum(x*y)))\n",
    "    A=(A_top)/(delta)\n",
    "    B_top=((N*(np.sum(x*y)))-((np.sum(x))*(np.sum(y))))\n",
    "    B=(B_top)/(delta)\n",
    "    return A,B"
   ]
  },
  {
   "cell_type": "markdown",
   "id": "ac610657",
   "metadata": {},
   "source": [
    "We now apply our linear least square function to our generated data:"
   ]
  },
  {
   "cell_type": "code",
   "execution_count": 10,
   "id": "0310c9cc",
   "metadata": {},
   "outputs": [],
   "source": [
    "yint_1a, slope_1a = linear_least_square(xlst_1a,ylst_1a)"
   ]
  },
  {
   "cell_type": "code",
   "execution_count": 14,
   "id": "f0a98761",
   "metadata": {},
   "outputs": [
    {
     "name": "stdout",
     "output_type": "stream",
     "text": [
      "Using our linear least square function,we obtain a best fit line of y = -5.0 + 3.0*x\n"
     ]
    }
   ],
   "source": [
    "print('Using our linear least square function, we obtain a best fit line of y = {} + {}*x'.format(yint_1a,slope_1a))"
   ]
  },
  {
   "cell_type": "markdown",
   "id": "cf0db82a",
   "metadata": {},
   "source": [
    "We arrive back to our original function, so our linear least square function works!\n",
    "\n",
    "___"
   ]
  },
  {
   "cell_type": "markdown",
   "id": "32ae6a06",
   "metadata": {},
   "source": [
    "## 1b\n",
    "\n",
    "Now take the data provided in testdata.txt. Find the linear equation that best fits the data using your own function.\n",
    "\n",
    "_____"
   ]
  },
  {
   "cell_type": "code",
   "execution_count": 15,
   "id": "c3026267",
   "metadata": {},
   "outputs": [],
   "source": [
    "#we import the data using pandas\n",
    "#you are free to import using your preferred method\n",
    "import pandas as pd"
   ]
  },
  {
   "cell_type": "code",
   "execution_count": 23,
   "id": "abf6f682",
   "metadata": {},
   "outputs": [],
   "source": [
    "#path to data\n",
    "data_loc = '../data/'\n",
    "data1b = pd.read_csv(data_loc+'testdata.csv',index_col=None)"
   ]
  },
  {
   "cell_type": "code",
   "execution_count": 26,
   "id": "a082d853",
   "metadata": {},
   "outputs": [
    {
     "data": {
      "text/html": [
       "<div>\n",
       "<style scoped>\n",
       "    .dataframe tbody tr th:only-of-type {\n",
       "        vertical-align: middle;\n",
       "    }\n",
       "\n",
       "    .dataframe tbody tr th {\n",
       "        vertical-align: top;\n",
       "    }\n",
       "\n",
       "    .dataframe thead th {\n",
       "        text-align: right;\n",
       "    }\n",
       "</style>\n",
       "<table border=\"1\" class=\"dataframe\">\n",
       "  <thead>\n",
       "    <tr style=\"text-align: right;\">\n",
       "      <th></th>\n",
       "      <th>x</th>\n",
       "      <th>y</th>\n",
       "    </tr>\n",
       "  </thead>\n",
       "  <tbody>\n",
       "    <tr>\n",
       "      <th>0</th>\n",
       "      <td>50.000000</td>\n",
       "      <td>885404.000000</td>\n",
       "    </tr>\n",
       "    <tr>\n",
       "      <th>1</th>\n",
       "      <td>50.505051</td>\n",
       "      <td>912394.964022</td>\n",
       "    </tr>\n",
       "    <tr>\n",
       "      <th>2</th>\n",
       "      <td>51.010101</td>\n",
       "      <td>939929.038983</td>\n",
       "    </tr>\n",
       "    <tr>\n",
       "      <th>3</th>\n",
       "      <td>51.515152</td>\n",
       "      <td>968011.635584</td>\n",
       "    </tr>\n",
       "    <tr>\n",
       "      <th>4</th>\n",
       "      <td>52.020202</td>\n",
       "      <td>996648.164531</td>\n",
       "    </tr>\n",
       "  </tbody>\n",
       "</table>\n",
       "</div>"
      ],
      "text/plain": [
       "           x              y\n",
       "0  50.000000  885404.000000\n",
       "1  50.505051  912394.964022\n",
       "2  51.010101  939929.038983\n",
       "3  51.515152  968011.635584\n",
       "4  52.020202  996648.164531"
      ]
     },
     "execution_count": 26,
     "metadata": {},
     "output_type": "execute_result"
    }
   ],
   "source": [
    "#visually inspect first 5 rows of data\n",
    "data1b.head()"
   ]
  },
  {
   "cell_type": "markdown",
   "id": "9b1cd40b",
   "metadata": {},
   "source": [
    "### 1c\n",
    "\n",
    "Now use the numpy.linalg.lstsq fit function to fit a linear line and a 2nd order polynomial to the provided data. Which is a better fit? Feel free to use any statistical tools (e.g. standard deviation of the residuals, chi-squared calculation, etc.) to determine the accuracy of the fit."
   ]
  },
  {
   "cell_type": "code",
   "execution_count": null,
   "id": "8e0be48c",
   "metadata": {},
   "outputs": [],
   "source": []
  }
 ],
 "metadata": {
  "kernelspec": {
   "display_name": "Python 3 (ipykernel)",
   "language": "python",
   "name": "python3"
  },
  "language_info": {
   "codemirror_mode": {
    "name": "ipython",
    "version": 3
   },
   "file_extension": ".py",
   "mimetype": "text/x-python",
   "name": "python",
   "nbconvert_exporter": "python",
   "pygments_lexer": "ipython3",
   "version": "3.10.9"
  }
 },
 "nbformat": 4,
 "nbformat_minor": 5
}
