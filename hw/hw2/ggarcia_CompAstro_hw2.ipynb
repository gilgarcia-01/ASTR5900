{
 "cells": [
  {
   "cell_type": "markdown",
   "id": "bdf0dee3",
   "metadata": {},
   "source": [
    "Gilberto Garcia\n",
    "\n",
    "ASTR5900\n",
    "\n",
    "HW2 - Root Finding\n",
    "\n",
    "8 February 2024\n",
    "\n",
    "___"
   ]
  },
  {
   "cell_type": "code",
   "execution_count": 1,
   "id": "28d84683",
   "metadata": {},
   "outputs": [],
   "source": [
    "import numpy as np"
   ]
  },
  {
   "cell_type": "markdown",
   "id": "9065538e",
   "metadata": {},
   "source": [
    "# Question 1\n",
    "\n",
    "Consider the following equation:\n",
    "\n",
    "$$ x^3 - 7x^2 + 14x - 5 = 0 $$\n",
    "\n",
    "Find a solution to the equation by hand to a precision smaller than 0.01 using \n",
    "\n",
    "\n",
    "(a) the bisection method (with initial guess of $x_i$ = 0 and 1)\n",
    "\n",
    "\n",
    "(b) using the Newton Raphson method (with $x_i$ = 0).\n",
    "\n",
    "\n",
    "(c) How many iterations did it take for each method?"
   ]
  },
  {
   "cell_type": "markdown",
   "id": "7845ecd3",
   "metadata": {},
   "source": [
    "# Question 2\n",
    "\n",
    "Write a code tha computes roots using each of these methods (bisection and Newton-Raphson). Your code should allow inputs for the initial guess(es), and the maximum error tolerance for the solution ($\\epsilon$). It should return the solution and count the number of steps taken.\n",
    "\n",
    "(a) Use your code to find a solution to the equation in problem 1, to a precision of $\\epsilon < 10^{-8}$. Show the outputs of each step. How many iterations did each of the two methods take?\n",
    "\n",
    "\n",
    "(b) How sensitive is the number of iterations to the location of your initial guess? To answer this, simply try 3 or 4 different initial guesses (further or closer to the known answer), and comment on what you find.\n",
    "\n",
    "(c) Using the Newton-Raphson, experiment with intial guesses and see if you can find any that would lead your code astray. Describe and comment on what you find."
   ]
  },
  {
   "cell_type": "markdown",
   "id": "ed3c5e53",
   "metadata": {},
   "source": [
    " ## a"
   ]
  },
  {
   "cell_type": "code",
   "execution_count": 2,
   "id": "da87eedf",
   "metadata": {},
   "outputs": [],
   "source": [
    "#bisection method\n",
    "\n",
    "def bisection(function,a,b,tolerance,max_iterations,print_steps=False):\n",
    "    '''\n",
    "    inputs:\n",
    "        - function: the function we wish to find a root for.\n",
    "                the function should be a python function itself.\n",
    "        - (a,b): the range we expect to find the root to be within\n",
    "        - tolerance: how small we want the difference between\n",
    "                the solution and 0 to be\n",
    "        - max_iterations: if no root exists, we set a maximum iterations\n",
    "                to prevent infinite loops\n",
    "        -print_steps: if user wants each iteration's root to be printed, \n",
    "                they can set print_steps=True\n",
    "    outputs:\n",
    "        - the root of the function if it exists\n",
    "        - or an error if no convergance is reached\n",
    "    '''\n",
    "    #as long as we haven't reached our max iterations, we continue finding the root\n",
    "    counter = 0\n",
    "    \n",
    "    if abs(function(a)) < tolerance:\n",
    "        print('convergence reached in: ',counter,' steps')\n",
    "        return a\n",
    "    if abs(function(b)) < tolerance:\n",
    "        print('convergence reached in: ',counter,' steps')\n",
    "        return b\n",
    "    \n",
    "    while counter <= max_iterations:\n",
    "        #we first compute f(a) and f(b)\n",
    "        f_a,f_b = function(a),function(b)\n",
    "        #we compute the midpoint of f(a) and f(b) and compute f(midpoint)\n",
    "        midpoint = (a + b)/2\n",
    "        f_midpoint = function(midpoint)\n",
    "        #if user wants, each step will be printed:\n",
    "        if print_steps == True:\n",
    "            print('iteration step: {}\\t root: {}'.format(counter,midpoint))\n",
    "        #determine if the midpoint is our root:\n",
    "        if abs(f_midpoint) < tolerance:\n",
    "            root = midpoint\n",
    "            break\n",
    "        #otherwise, determine if the midpoint is our new lower or upper bound\n",
    "        sign_test = f_midpoint * f_a\n",
    "        if sign_test < 0:\n",
    "            b = midpoint\n",
    "        else:\n",
    "            a = midpoint\n",
    "        #increase the counter and repeat the loop\n",
    "        counter += 1\n",
    "        #raise error if maximum iteration steps is reached\n",
    "        if counter > max_iterations:\n",
    "            raise ValueError('maximum iterations steps reached')\n",
    "    print('convergence reached in: ',counter,' steps')\n",
    "    return root"
   ]
  },
  {
   "cell_type": "code",
   "execution_count": 3,
   "id": "f757457e",
   "metadata": {},
   "outputs": [],
   "source": [
    "#newton raphson\n",
    "\n",
    "def newton_raphson(function,function_prime,initial_guess,tolerance,max_iterations,print_steps=False):\n",
    "    '''\n",
    "    inputs:\n",
    "        - the function we want to find a root for (function should be passed as a python function)\n",
    "        - the derivative of the given function (also passed as a python function)\n",
    "        - initial_guess: an educated guess of where the root lives\n",
    "        - tolerance: how small we want the difference between our solution and 0 to be\n",
    "        - max_iterations: if no root exists, we set a maximum iterations\n",
    "                to prevent infinite loops\n",
    "        -print_steps: if user wants each iteration's root to be printed, \n",
    "                they can set print_steps=True\n",
    "                \n",
    "    outputs:\n",
    "        - the root of the function if it exsists\n",
    "        - or an error if no convergance is reached\n",
    "    '''\n",
    "    \n",
    "    #initialize our starting x value and our counter\n",
    "    x0 = initial_guess\n",
    "    counter = 0\n",
    "    #we apply the newton raphson method until we reach our root\n",
    "    while counter <= max_iterations:\n",
    "        #we evaluate the function and its derivative at the initial guess\n",
    "        f_x = function(x0)\n",
    "        fprime_x = function_prime(x0)\n",
    "        #if user wants, each step will be printed:\n",
    "        if print_steps == True:\n",
    "            print('iteration step: {}\\t root: {}'.format(counter,x0))\n",
    "        #compute the newton-raphson iteration\n",
    "        xi = x0 - (f_x / fprime_x)\n",
    "        #if this new value is within the range for our root tolerance, break\n",
    "        if abs(function(xi)) < tolerance:\n",
    "            root = xi\n",
    "            break\n",
    "        #otherwise, update our starting x value and the counter and repeat\n",
    "        x0 = xi\n",
    "        counter += 1\n",
    "        #raise error if maximum iterations steps is reached\n",
    "        if counter > max_iterations:\n",
    "            raise ValueError('maximum iterations steps reached')\n",
    "        \n",
    "    print('convergence reached in: ',counter,' steps')    \n",
    "    return root"
   ]
  },
  {
   "cell_type": "code",
   "execution_count": 4,
   "id": "f0c655de",
   "metadata": {},
   "outputs": [],
   "source": [
    "def func1(x):\n",
    "    return x**3 + 7*x**2 + 14*x - 5"
   ]
  },
  {
   "cell_type": "code",
   "execution_count": 5,
   "id": "403cf7ab",
   "metadata": {},
   "outputs": [],
   "source": [
    "def func_test(x):\n",
    "    return x**2 - 2"
   ]
  },
  {
   "cell_type": "code",
   "execution_count": 6,
   "id": "2f7f1545",
   "metadata": {},
   "outputs": [],
   "source": [
    "def func1_prime(x):\n",
    "    return 3*x**2 + 14*x + 14"
   ]
  },
  {
   "cell_type": "code",
   "execution_count": 8,
   "id": "1752cc1e",
   "metadata": {},
   "outputs": [
    {
     "name": "stdout",
     "output_type": "stream",
     "text": [
      "iteration step: 0\t root: 0.5\n",
      "iteration step: 1\t root: 0.25\n",
      "iteration step: 2\t root: 0.375\n",
      "iteration step: 3\t root: 0.3125\n",
      "iteration step: 4\t root: 0.28125\n",
      "iteration step: 5\t root: 0.296875\n",
      "iteration step: 6\t root: 0.3046875\n",
      "iteration step: 7\t root: 0.30859375\n",
      "iteration step: 8\t root: 0.306640625\n",
      "iteration step: 9\t root: 0.3076171875\n",
      "iteration step: 10\t root: 0.30810546875\n",
      "iteration step: 11\t root: 0.307861328125\n",
      "iteration step: 12\t root: 0.3077392578125\n",
      "iteration step: 13\t root: 0.30767822265625\n",
      "iteration step: 14\t root: 0.307708740234375\n",
      "iteration step: 15\t root: 0.3077239990234375\n",
      "iteration step: 16\t root: 0.30771636962890625\n",
      "iteration step: 17\t root: 0.3077201843261719\n",
      "iteration step: 18\t root: 0.30771827697753906\n",
      "iteration step: 19\t root: 0.30771732330322266\n",
      "iteration step: 20\t root: 0.30771684646606445\n",
      "iteration step: 21\t root: 0.30771660804748535\n",
      "iteration step: 22\t root: 0.3077167272567749\n",
      "iteration step: 23\t root: 0.3077167868614197\n",
      "iteration step: 24\t root: 0.30771681666374207\n",
      "iteration step: 25\t root: 0.30771680176258087\n",
      "iteration step: 26\t root: 0.3077167943120003\n",
      "iteration step: 27\t root: 0.30771679058671\n",
      "iteration step: 28\t root: 0.3077167887240648\n",
      "iteration step: 29\t root: 0.3077167896553874\n",
      "convergence reached in:  29  steps\n",
      "\n",
      "the root using bisection method is 0.3077167896553874\n"
     ]
    }
   ],
   "source": [
    "lower_bound, upper_bound = 0.,1.\n",
    "root1_bisection = bisection(func1,lower_bound,upper_bound,10**(-8),1_000,True)\n",
    "print()\n",
    "print('the root using bisection method is {}'.format(root1_bisection))"
   ]
  },
  {
   "cell_type": "code",
   "execution_count": 9,
   "id": "249e646a",
   "metadata": {},
   "outputs": [
    {
     "name": "stdout",
     "output_type": "stream",
     "text": [
      "iteration step: 0\t root: 0\n",
      "iteration step: 1\t root: 0.35714285714285715\n",
      "iteration step: 2\t root: 0.30872786071522584\n",
      "iteration step: 3\t root: 0.30771722501924376\n",
      "convergence reached in:  3  steps\n",
      "\n",
      "the root using Newton-Raphson is 0.30771678963840055\n"
     ]
    }
   ],
   "source": [
    "initial_guess = 0\n",
    "root1_newton = newton_raphson(func1,func1_prime,initial_guess,10**(-8),1_000,True)\n",
    "print()\n",
    "print('the root using Newton-Raphson is {}'.format(root1_newton))"
   ]
  },
  {
   "cell_type": "code",
   "execution_count": null,
   "id": "6222e70c",
   "metadata": {},
   "outputs": [],
   "source": []
  }
 ],
 "metadata": {
  "kernelspec": {
   "display_name": "Python 3 (ipykernel)",
   "language": "python",
   "name": "python3"
  },
  "language_info": {
   "codemirror_mode": {
    "name": "ipython",
    "version": 3
   },
   "file_extension": ".py",
   "mimetype": "text/x-python",
   "name": "python",
   "nbconvert_exporter": "python",
   "pygments_lexer": "ipython3",
   "version": "3.10.9"
  }
 },
 "nbformat": 4,
 "nbformat_minor": 5
}
