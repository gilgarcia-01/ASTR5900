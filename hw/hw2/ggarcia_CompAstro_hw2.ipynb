{
 "cells": [
  {
   "cell_type": "markdown",
   "id": "bdf0dee3",
   "metadata": {},
   "source": [
    "Gilberto Garcia\n",
    "\n",
    "ASTR5900\n",
    "\n",
    "HW2 - Root Finding\n",
    "\n",
    "8 February 2024\n",
    "\n",
    "___"
   ]
  },
  {
   "cell_type": "code",
   "execution_count": 1,
   "id": "28d84683",
   "metadata": {},
   "outputs": [],
   "source": [
    "import numpy as np"
   ]
  },
  {
   "cell_type": "markdown",
   "id": "9065538e",
   "metadata": {},
   "source": [
    "# Question 1\n",
    "\n",
    "Consider the following equation:\n",
    "\n",
    "$$ x^3 - 7x^2 + 14x - 5 = 0 $$\n",
    "\n",
    "Find a solution to the equation by hand to a precision smaller than 0.01 using \n",
    "\n",
    "\n",
    "(a) the bisection method (with initial guess of $x_i$ = 0 and 1)\n",
    "\n",
    "\n",
    "(b) using the Newton Raphson method (with $x_i$ = 0).\n",
    "\n",
    "\n",
    "(c) How many iterations did it take for each method?"
   ]
  },
  {
   "cell_type": "markdown",
   "id": "7845ecd3",
   "metadata": {},
   "source": [
    "# Question 2\n",
    "\n",
    "Write a code tha computes roots using each of these methods (bisection and Newton-Raphson). Your code should allow inputs for the initial guess(es), and the maximum error tolerance for the solution ($\\epsilon$). It should return the solution and count the number of steps taken.\n",
    "\n",
    "(a) Use your code to find a solution to the equation in problem 1, to a precision of $\\epsilon < 10^{-8}$. Show the outputs of each step. How many iterations did each of the two methods take?\n",
    "\n",
    "\n",
    "(b) How sensitive is the number of iterations to the location of your initial guess? To answer this, simply try 3 or 4 different initial guesses (further or closer to the known answer), and comment on what you find.\n",
    "\n",
    "(c) Using the Newton-Raphson, experiment with intial guesses and see if you can find any that would lead your code astray. Describe and comment on what you find."
   ]
  },
  {
   "cell_type": "markdown",
   "id": "ed3c5e53",
   "metadata": {},
   "source": [
    " ## a"
   ]
  },
  {
   "cell_type": "code",
   "execution_count": 40,
   "id": "da87eedf",
   "metadata": {},
   "outputs": [],
   "source": [
    "#bisection method\n",
    "\n",
    "def bisection(function,a,b,tolerance,max_iterations,print_steps=False):\n",
    "    '''\n",
    "    inputs:\n",
    "        - function: the function we wish to find a root for.\n",
    "                the function should be a python function itself.\n",
    "        - (a,b): the range we expect to find the root to be within\n",
    "        - tolerance: how small we want the difference between\n",
    "                the solution and 0 to be\n",
    "        - max_iterations: if no root exists, we set a maximum iterations\n",
    "                to prevent infinite loops\n",
    "        -print_steps: if user wants each iteration's root to be printed, \n",
    "                they can set print_steps=True\n",
    "    outputs:\n",
    "        - the root of the function if it exists\n",
    "        - or an error if no convergance is reached\n",
    "    '''\n",
    "    \n",
    "    \n",
    "    \n",
    "    \n",
    "    #we compute the first iteration of f(a) and f(b)\n",
    "    f_a,f_b = function(a),function(b) \n",
    "    #we compute the midpoint of a and b and compute f(midpoint)\n",
    "    midpoint = (a + b)/2\n",
    "    f_midpoint = function(midpoint)\n",
    "    \n",
    "    \n",
    "    #as long as we haven't reached our max iterations, we continue finding the root\n",
    "    counter = 0   \n",
    "    while counter <= max_iterations:\n",
    "        #determine if the midpoint is our new lower or upper bound\n",
    "        sign_test = f_midpoint * f_a\n",
    "        if sign_test < 0:\n",
    "            b = midpoint\n",
    "        else:\n",
    "            a = midpoint\n",
    "        #find the next iteration of f(a), f(b) and midpoint values:\n",
    "        f_a1,f_b1 = function(a),function(b)\n",
    "        midpoint1 = (a + b)/2.0\n",
    "        f_midpoint1 = function(midpoint1)\n",
    "        #check if difference in x values is within our tolerance\n",
    "        relative_x_diff = (midpoint1 - midpoint) / midpoint\n",
    "        #if it is, our root has been found and we break\n",
    "        if abs(relative_x_diff) < tolerance:\n",
    "            root = midpoint1\n",
    "            break\n",
    "        #otherwise, we update the old f(a),f(b), midpoint and f(midpoint) values to be the new values\n",
    "        else:\n",
    "            f_a,f_b = f_a1,f_b1\n",
    "            midpoint = midpoint1\n",
    "            f_midpoint = f_midpoint1\n",
    "        #increase the counter\n",
    "        counter += 1\n",
    "        #if the user wants, each step will be printed:\n",
    "        if print_steps == True:\n",
    "            print('iteration step: {}\\t root: {}'.format(counter,midpoint1))\n",
    "        #raise error if maximum iteration steps is reached\n",
    "        if counter > max_iterations:\n",
    "            raise ValueError('maximum iterations steps reached')\n",
    "    print('convergence reached in: ',counter,' steps')\n",
    "    return root"
   ]
  },
  {
   "cell_type": "code",
   "execution_count": 3,
   "id": "f757457e",
   "metadata": {},
   "outputs": [],
   "source": [
    "#newton raphson\n",
    "\n",
    "def newton_raphson(function,function_prime,initial_guess,tolerance,max_iterations,print_steps=False):\n",
    "    '''\n",
    "    inputs:\n",
    "        - the function we want to find a root for (function should be passed as a python function)\n",
    "        - the derivative of the given function (also passed as a python function)\n",
    "        - initial_guess: an educated guess of where the root lives\n",
    "        - tolerance: how small we want the difference between our solution and 0 to be\n",
    "        - max_iterations: if no root exists, we set a maximum iterations\n",
    "                to prevent infinite loops\n",
    "        -print_steps: if user wants each iteration's root to be printed, \n",
    "                they can set print_steps=True\n",
    "                \n",
    "    outputs:\n",
    "        - the root of the function if it exsists\n",
    "        - or an error if no convergance is reached\n",
    "    '''\n",
    "    \n",
    "    #initialize our starting x value and our counter\n",
    "    x0 = initial_guess\n",
    "    counter = 0\n",
    "    #we apply the newton raphson method until we reach our root\n",
    "    while counter <= max_iterations:\n",
    "        #we evaluate the function and its derivative at the initial guess\n",
    "        f_x = function(x0)\n",
    "        fprime_x = function_prime(x0)\n",
    "        #if user wants, each step will be printed:\n",
    "        if print_steps == True:\n",
    "            print('iteration step: {}\\t root: {}'.format(counter,x0))\n",
    "        #compute the newton-raphson iteration\n",
    "        xi = x0 - (f_x / fprime_x)\n",
    "        #if this new value is within the range for our root tolerance, break\n",
    "        if abs(function(xi)) < tolerance:\n",
    "            root = xi\n",
    "            break\n",
    "        #otherwise, update our starting x value and the counter and repeat\n",
    "        x0 = xi\n",
    "        counter += 1\n",
    "        #raise error if maximum iterations steps is reached\n",
    "        if counter > max_iterations:\n",
    "            raise ValueError('maximum iterations steps reached')\n",
    "        \n",
    "    print('convergence reached in: ',counter,' steps')    \n",
    "    return root"
   ]
  },
  {
   "cell_type": "code",
   "execution_count": 4,
   "id": "f0c655de",
   "metadata": {},
   "outputs": [],
   "source": [
    "def func1(x):\n",
    "    return x**3 - 7*x**2 + 14*x - 5"
   ]
  },
  {
   "cell_type": "code",
   "execution_count": 5,
   "id": "2f7f1545",
   "metadata": {},
   "outputs": [],
   "source": [
    "def func1_prime(x):\n",
    "    return 3*x**2 - 14*x + 14"
   ]
  },
  {
   "cell_type": "code",
   "execution_count": 42,
   "id": "1752cc1e",
   "metadata": {},
   "outputs": [
    {
     "name": "stdout",
     "output_type": "stream",
     "text": [
      "iteration step: 1\t root: 0.25\n",
      "iteration step: 2\t root: 0.375\n",
      "iteration step: 3\t root: 0.4375\n",
      "iteration step: 4\t root: 0.46875\n",
      "iteration step: 5\t root: 0.453125\n",
      "iteration step: 6\t root: 0.4609375\n",
      "iteration step: 7\t root: 0.45703125\n",
      "iteration step: 8\t root: 0.455078125\n",
      "iteration step: 9\t root: 0.4541015625\n",
      "iteration step: 10\t root: 0.45361328125\n",
      "iteration step: 11\t root: 0.453369140625\n",
      "iteration step: 12\t root: 0.4532470703125\n",
      "iteration step: 13\t root: 0.45318603515625\n",
      "iteration step: 14\t root: 0.453155517578125\n",
      "iteration step: 15\t root: 0.4531707763671875\n",
      "iteration step: 16\t root: 0.45317840576171875\n",
      "iteration step: 17\t root: 0.4531822204589844\n",
      "iteration step: 18\t root: 0.45318031311035156\n",
      "iteration step: 19\t root: 0.45318126678466797\n",
      "iteration step: 20\t root: 0.45318174362182617\n",
      "iteration step: 21\t root: 0.45318150520324707\n",
      "iteration step: 22\t root: 0.4531816244125366\n",
      "iteration step: 23\t root: 0.4531816840171814\n",
      "iteration step: 24\t root: 0.4531817138195038\n",
      "iteration step: 25\t root: 0.453181728720665\n",
      "iteration step: 26\t root: 0.4531817212700844\n",
      "convergence reached in:  26  steps\n",
      "\n",
      "the root using bisection method is 0.4531817249953747\n"
     ]
    }
   ],
   "source": [
    "lower_bound, upper_bound = 0.,1.\n",
    "root1_bisection = bisection(func1,lower_bound,upper_bound,10**(-8),1_000,True)\n",
    "print()\n",
    "print('the root using bisection method is {}'.format(root1_bisection))"
   ]
  },
  {
   "cell_type": "code",
   "execution_count": 7,
   "id": "249e646a",
   "metadata": {},
   "outputs": [
    {
     "name": "stdout",
     "output_type": "stream",
     "text": [
      "iteration step: 0\t root: 0\n",
      "iteration step: 1\t root: 0.35714285714285715\n",
      "iteration step: 2\t root: 0.44744814728501514\n",
      "iteration step: 3\t root: 0.453159435118196\n",
      "convergence reached in:  3  steps\n",
      "\n",
      "the root using Newton-Raphson is 0.4531817227771845\n"
     ]
    }
   ],
   "source": [
    "initial_guess = 0\n",
    "root1_newton = newton_raphson(func1,func1_prime,initial_guess,10**(-8),1_000,True)\n",
    "print()\n",
    "print('the root using Newton-Raphson is {}'.format(root1_newton))"
   ]
  },
  {
   "cell_type": "code",
   "execution_count": null,
   "id": "6222e70c",
   "metadata": {},
   "outputs": [],
   "source": []
  }
 ],
 "metadata": {
  "kernelspec": {
   "display_name": "Python 3 (ipykernel)",
   "language": "python",
   "name": "python3"
  },
  "language_info": {
   "codemirror_mode": {
    "name": "ipython",
    "version": 3
   },
   "file_extension": ".py",
   "mimetype": "text/x-python",
   "name": "python",
   "nbconvert_exporter": "python",
   "pygments_lexer": "ipython3",
   "version": "3.10.9"
  }
 },
 "nbformat": 4,
 "nbformat_minor": 5
}
