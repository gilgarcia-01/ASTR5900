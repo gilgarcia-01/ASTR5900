{
 "cells": [
  {
   "cell_type": "markdown",
   "id": "bdf0dee3",
   "metadata": {},
   "source": [
    "Gilberto Garcia\n",
    "\n",
    "ASTR5900\n",
    "\n",
    "HW2 - Root Finding\n",
    "\n",
    "8 February 2024\n",
    "\n",
    "___"
   ]
  },
  {
   "cell_type": "markdown",
   "id": "9065538e",
   "metadata": {},
   "source": [
    "# Question 1\n",
    "\n",
    "Consider the following equation:\n",
    "\n",
    "$$ x^3 - 7x^2 + 14x - 5 = 0 $$\n",
    "\n",
    "Find a solution to the equation by hand to a precision smaller than 0.01 using \n",
    "\n",
    "\n",
    "(a) the bisection method (with initial guess of $x_i$ = 0 and 1)\n",
    "\n",
    "\n",
    "(b) using the Newton Raphson method (with $x_i$ = 0).\n",
    "\n",
    "\n",
    "(c) How many iterations did it take for each method?"
   ]
  },
  {
   "cell_type": "markdown",
   "id": "7845ecd3",
   "metadata": {},
   "source": [
    "# Question 2\n",
    "\n",
    "Write a code tha computes roots using each of these methods (bisection and Newton-Raphson). Your code should allow inputs for the initial guess(es), and the maximum error tolerance for the solution ($\\epsilon$). It should return the solution and count the number of steps taken.\n",
    "\n",
    "(a) Use your code to find a solution to the equation in problem 1, to a precision of $\\epsilon < 10^{-8}$. Show the outputs of each step. How many iterations did each of the two methods take?\n",
    "\n",
    "\n",
    "(b) How sensitive is the number of iterations to the location of your initial guess? To answer this, simply try 3 or 4 different initial guesses (further or closer to the known answer), and comment on what you find.\n",
    "\n",
    "(c) Using the Newton-Raphson, experiment with intial guesses and see if you can find any that would lead your code astray. Describe and comment on what you find."
   ]
  },
  {
   "cell_type": "code",
   "execution_count": 36,
   "id": "afbdc50c",
   "metadata": {},
   "outputs": [],
   "source": [
    "import numpy as np\n",
    "import matplotlib.pyplot as plt"
   ]
  },
  {
   "cell_type": "markdown",
   "id": "ed3c5e53",
   "metadata": {},
   "source": [
    " ## a"
   ]
  },
  {
   "cell_type": "code",
   "execution_count": 1,
   "id": "f0c655de",
   "metadata": {},
   "outputs": [],
   "source": [
    "def func1(x):\n",
    "    return x**3 - 7*x**2 + 14*x - 5\n",
    "\n",
    "def func1_prime(x):\n",
    "    return 3*x**2 - 14*x + 14"
   ]
  },
  {
   "cell_type": "code",
   "execution_count": 104,
   "id": "da87eedf",
   "metadata": {},
   "outputs": [],
   "source": [
    "#bisection method\n",
    "\n",
    "def bisection(function,a,b,tolerance,max_iterations,print_steps=False):\n",
    "    '''\n",
    "    inputs:\n",
    "        - function: the function we wish to find a root for.\n",
    "                the function should be a python function itself.\n",
    "        - (a,b): the range we expect to find the root to be within\n",
    "        - tolerance: how small we want the difference between\n",
    "                the solution and 0 to be\n",
    "        - max_iterations: if no root exists, we set a maximum iterations\n",
    "                to prevent infinite loops\n",
    "        -print_steps: if user wants each iteration's root to be printed, \n",
    "                they can set print_steps=True\n",
    "    outputs:\n",
    "        - the root of the function if it exists\n",
    "        - or an error if no convergance is reached\n",
    "    '''\n",
    "    \n",
    "    \n",
    "    \n",
    "    \n",
    "    #we compute the first iteration of f(a) and f(b)\n",
    "    f_a,f_b = function(a),function(b) \n",
    "    #we compute the midpoint of a and b and compute f(midpoint)\n",
    "    midpoint = (a + b)/2\n",
    "    f_midpoint = function(midpoint)\n",
    "    \n",
    "    \n",
    "    #as long as we haven't reached our max iterations, we continue finding the root\n",
    "    counter = 0   \n",
    "    while counter <= max_iterations:\n",
    "        #determine if the midpoint is our new lower or upper bound\n",
    "        sign_test = f_midpoint * f_a\n",
    "        if sign_test < 0:\n",
    "            b = midpoint\n",
    "        else:\n",
    "            a = midpoint\n",
    "        #find the next iteration of f(a), f(b) and midpoint values:\n",
    "        f_a1,f_b1 = function(a),function(b)\n",
    "        midpoint1 = (a + b)/2.0\n",
    "        f_midpoint1 = function(midpoint1)\n",
    "        #avoid divide by zero errors by not calculating rel diff if midpoint is equivalent to 0\n",
    "        if midpoint == 0:\n",
    "            pass\n",
    "        else:\n",
    "            #check if difference in x values is within our tolerance\n",
    "            relative_x_diff = (midpoint1 - midpoint) / midpoint\n",
    "            #if it is, our root has been found and we break\n",
    "            if abs(relative_x_diff) < tolerance:\n",
    "                root = midpoint1\n",
    "                break\n",
    "        #otherwise, we update the old f(a),f(b), midpoint and f(midpoint) values to be the new values\n",
    "        f_a,f_b = f_a1,f_b1\n",
    "        midpoint = midpoint1\n",
    "        f_midpoint = f_midpoint1\n",
    "        #increase the counter\n",
    "        counter += 1\n",
    "        #if the user wants, each step will be printed:\n",
    "        if print_steps == True:\n",
    "            print('iteration step: {}\\t root: {}'.format(counter,midpoint1))\n",
    "        #raise error if maximum iteration steps is reached\n",
    "        if counter > max_iterations:\n",
    "            raise ValueError('maximum iterations steps reached')\n",
    "    #print('convergence reached in: ',counter,' steps')\n",
    "    return root,counter"
   ]
  },
  {
   "cell_type": "code",
   "execution_count": 103,
   "id": "1752cc1e",
   "metadata": {},
   "outputs": [
    {
     "name": "stdout",
     "output_type": "stream",
     "text": [
      "iteration step: 1\t root: 0.25\n",
      "iteration step: 2\t root: 0.375\n",
      "iteration step: 3\t root: 0.4375\n",
      "iteration step: 4\t root: 0.46875\n",
      "iteration step: 5\t root: 0.453125\n",
      "iteration step: 6\t root: 0.4609375\n",
      "iteration step: 7\t root: 0.45703125\n",
      "iteration step: 8\t root: 0.455078125\n",
      "iteration step: 9\t root: 0.4541015625\n",
      "iteration step: 10\t root: 0.45361328125\n",
      "iteration step: 11\t root: 0.453369140625\n",
      "iteration step: 12\t root: 0.4532470703125\n",
      "iteration step: 13\t root: 0.45318603515625\n",
      "iteration step: 14\t root: 0.453155517578125\n",
      "iteration step: 15\t root: 0.4531707763671875\n",
      "iteration step: 16\t root: 0.45317840576171875\n",
      "iteration step: 17\t root: 0.4531822204589844\n",
      "iteration step: 18\t root: 0.45318031311035156\n",
      "iteration step: 19\t root: 0.45318126678466797\n",
      "iteration step: 20\t root: 0.45318174362182617\n",
      "iteration step: 21\t root: 0.45318150520324707\n",
      "iteration step: 22\t root: 0.4531816244125366\n",
      "iteration step: 23\t root: 0.4531816840171814\n",
      "iteration step: 24\t root: 0.4531817138195038\n",
      "iteration step: 25\t root: 0.453181728720665\n",
      "iteration step: 26\t root: 0.4531817212700844\n",
      "\n",
      "the root using bisection method is 0.4531817249953747\n"
     ]
    }
   ],
   "source": [
    "lower_bound, upper_bound = 0.,1.\n",
    "tolerance = 10**(-8)\n",
    "max_iters = 1_000\n",
    "root1_bisection = bisection(func1,lower_bound,upper_bound,tolerance,max_iters,True)\n",
    "print()\n",
    "print('the root using bisection method is {}'.format(root1_bisection[0]))"
   ]
  },
  {
   "cell_type": "code",
   "execution_count": 25,
   "id": "f757457e",
   "metadata": {},
   "outputs": [],
   "source": [
    "#newton raphson\n",
    "\n",
    "def newton_raphson(function,function_prime,initial_guess,tolerance,max_iterations,print_steps=False):\n",
    "    '''\n",
    "    inputs:\n",
    "        - the function we want to find a root for (function should be passed as a python function)\n",
    "        - the derivative of the given function (also passed as a python function)\n",
    "        - initial_guess: an educated guess of where the root lives\n",
    "        - tolerance: how small we want the difference between our solution and 0 to be\n",
    "        - max_iterations: if no root exists, we set a maximum iterations\n",
    "                to prevent infinite loops\n",
    "        -print_steps: if user wants each iteration's root to be printed, \n",
    "                they can set print_steps=True\n",
    "                \n",
    "    outputs:\n",
    "        - the root of the function if it exists\n",
    "        - or an error if no convergance is reached\n",
    "    '''\n",
    "    \n",
    "    #initialize our starting x value\n",
    "    x0 = initial_guess\n",
    "    #we evaluate the function and its derivative at the initial guess\n",
    "    f_x = function(x0)\n",
    "    fprime_x =function_prime(x0)\n",
    "    \n",
    "    #we initialize our counter\n",
    "    counter = 0\n",
    "    #we apply the newton raphson method until we reach our root\n",
    "    while counter <= max_iterations:\n",
    "        #compute the newton-raphson iteration\n",
    "        xi = x0 - (f_x / fprime_x)\n",
    "        #if this new value is within the range for our root tolerance, break\n",
    "        if x0 == 0:\n",
    "            pass\n",
    "        else:\n",
    "            relative_x_diff = (xi - x0)/x0\n",
    "            #print(abs(relative_x_diff))\n",
    "            if abs(relative_x_diff) < tolerance:\n",
    "                root = xi\n",
    "                break\n",
    "        #otherwise, update x0,f(x),f'(x) and repeat\n",
    "        x0 = xi\n",
    "        f_x = function(x0)\n",
    "        fprime_x = function_prime(x0)\n",
    "        counter += 1\n",
    "        #if user wants, each step will be printed:\n",
    "        if print_steps == True:\n",
    "            print('iteration step: {}\\t root: {}'.format(counter,xi))\n",
    "        #raise error if maximum iterations steps is reached\n",
    "        if counter > max_iterations:\n",
    "            raise ValueError('maximum iterations steps reached')\n",
    "        \n",
    "    print('convergence reached in: ',counter,' steps')    \n",
    "    return root,counter"
   ]
  },
  {
   "cell_type": "code",
   "execution_count": 26,
   "id": "249e646a",
   "metadata": {},
   "outputs": [
    {
     "name": "stdout",
     "output_type": "stream",
     "text": [
      "iteration step: 1\t root: 0.35714285714285715\n",
      "iteration step: 2\t root: 0.44744814728501514\n",
      "iteration step: 3\t root: 0.453159435118196\n",
      "iteration step: 4\t root: 0.4531817227771845\n",
      "convergence reached in:  4  steps\n",
      "\n",
      "the root using Newton-Raphson is 0.453181723115918\n"
     ]
    }
   ],
   "source": [
    "initial_guess = 0.\n",
    "tolerance = 10**(-8)\n",
    "max_iters = 1_000\n",
    "root1_newton = newton_raphson(func1,func1_prime,initial_guess,tolerance,max_iters,True)\n",
    "print()\n",
    "print('the root using Newton-Raphson is {}'.format(root1_newton[0]))"
   ]
  },
  {
   "cell_type": "markdown",
   "id": "b32d3529",
   "metadata": {},
   "source": [
    "## b\n",
    "\n",
    "Let's now try different sets of initial guesses for bisection method. We will keep the tolerance and maximum iterations allowed the same."
   ]
  },
  {
   "cell_type": "code",
   "execution_count": 71,
   "id": "04528679",
   "metadata": {},
   "outputs": [
    {
     "name": "stdout",
     "output_type": "stream",
     "text": [
      "convergence reached in:  28  steps\n"
     ]
    }
   ],
   "source": [
    "lower_bound, upper_bound = -1.,2.\n",
    "root,counter = bisection(func1,lower_bound,upper_bound,tolerance,max_iters,False)\n",
    "print('convergence reached in: ',counter,' steps')"
   ]
  },
  {
   "cell_type": "code",
   "execution_count": 72,
   "id": "e7d4c498",
   "metadata": {},
   "outputs": [
    {
     "name": "stdout",
     "output_type": "stream",
     "text": [
      "convergence reached in:  31  steps\n"
     ]
    }
   ],
   "source": [
    "lower_bound, upper_bound = -10.,11.\n",
    "root,counter = bisection(func1,lower_bound,upper_bound,tolerance,max_iters,False)\n",
    "print('convergence reached in: ',counter,' steps')"
   ]
  },
  {
   "cell_type": "code",
   "execution_count": 73,
   "id": "59e8b205",
   "metadata": {},
   "outputs": [
    {
     "name": "stdout",
     "output_type": "stream",
     "text": [
      "convergence reached in:  34  steps\n"
     ]
    }
   ],
   "source": [
    "lower_bound, upper_bound = -(10**2.),1.1*10**2.\n",
    "root,counter = bisection(func1,lower_bound,upper_bound,tolerance,max_iters,False)\n",
    "print('convergence reached in: ',counter,' steps')"
   ]
  },
  {
   "cell_type": "code",
   "execution_count": 74,
   "id": "6b085d3f",
   "metadata": {},
   "outputs": [
    {
     "name": "stdout",
     "output_type": "stream",
     "text": [
      "convergence reached in:  40  steps\n"
     ]
    }
   ],
   "source": [
    "lower_bound, upper_bound = -(10**4),2.\n",
    "root,counter = bisection(func1,lower_bound,upper_bound,tolerance,max_iters,False)\n",
    "print('convergence reached in: ',counter,' steps')"
   ]
  },
  {
   "cell_type": "code",
   "execution_count": 75,
   "id": "fc934c3c",
   "metadata": {},
   "outputs": [
    {
     "name": "stdout",
     "output_type": "stream",
     "text": [
      "convergence reached in:  59  steps\n"
     ]
    }
   ],
   "source": [
    "lower_bound, upper_bound = -1.,10**(10)\n",
    "root,counter = bisection(func1,lower_bound,upper_bound,tolerance,max_iters,False)\n",
    "print('convergence reached in: ',counter,' steps')"
   ]
  },
  {
   "cell_type": "markdown",
   "id": "b0b2163c",
   "metadata": {},
   "source": [
    "We can see that the convergence counter seems to increase steadily as we increase our initial range. We can visualize how the convergence of the bisection looks like. We will keep the lower bound constant at -1 and increase the upper bound from 2 to 1,000:"
   ]
  },
  {
   "cell_type": "code",
   "execution_count": 95,
   "id": "e706408c",
   "metadata": {},
   "outputs": [],
   "source": [
    "upper_bound_arr = np.linspace(2,10**3,1_000)"
   ]
  },
  {
   "cell_type": "code",
   "execution_count": 96,
   "id": "d90cf167",
   "metadata": {},
   "outputs": [],
   "source": [
    "converge_lst = []\n",
    "for up_bound in upper_bound_arr:\n",
    "    root,convergence_num = bisection(func1,lower_bound,up_bound,tolerance,max_iters,False)\n",
    "    converge_lst += [convergence_num]"
   ]
  },
  {
   "cell_type": "code",
   "execution_count": 97,
   "id": "08aa0be8",
   "metadata": {},
   "outputs": [
    {
     "data": {
      "image/png": "[encoded data removed]",
      "text/plain": [
       "<Figure size 640x480 with 1 Axes>"
      ]
     },
     "metadata": {},
     "output_type": "display_data"
    }
   ],
   "source": [
    "plt.scatter(upper_bound_arr,converge_lst,color='k')\n",
    "plt.ylabel('convergence steps')\n",
    "plt.xlabel('upper bound')\n",
    "plt.show()"
   ]
  },
  {
   "cell_type": "markdown",
   "id": "2fa30a02",
   "metadata": {},
   "source": [
    "We see that even for a small upper bound, the bisection method takes 28 steps to converge to a tolerance of $10^{-8}$. As we increase the upper bound, the convergence takes a functional form similar to log(x). So as we increase the upper bound, the convergence step doesn't increase a whole lot.\n",
    "\n",
    "\n",
    "Let's now take the same approach for the Newton-Raphson method. We start by printing the convergence step at various initial guesses:"
   ]
  },
  {
   "cell_type": "code",
   "execution_count": null,
   "id": "dc64d49b",
   "metadata": {},
   "outputs": [],
   "source": []
  }
 ],
 "metadata": {
  "kernelspec": {
   "display_name": "Python 3 (ipykernel)",
   "language": "python",
   "name": "python3"
  },
  "language_info": {
   "codemirror_mode": {
    "name": "ipython",
    "version": 3
   },
   "file_extension": ".py",
   "mimetype": "text/x-python",
   "name": "python",
   "nbconvert_exporter": "python",
   "pygments_lexer": "ipython3",
   "version": "3.10.9"
  }
 },
 "nbformat": 4,
 "nbformat_minor": 5
}
