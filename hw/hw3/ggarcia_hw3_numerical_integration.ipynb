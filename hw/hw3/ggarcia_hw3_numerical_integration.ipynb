{
 "cells": [
  {
   "cell_type": "markdown",
   "id": "92f732e0",
   "metadata": {},
   "source": [
    "Garcia, Gilberto\n",
    "\n",
    "ASTR5900\n",
    "\n",
    "HW3 - Numerical Integration\n",
    "\n",
    "14 February 2024\n",
    "\n",
    "\n",
    "____"
   ]
  },
  {
   "cell_type": "markdown",
   "id": "3e028722",
   "metadata": {},
   "source": [
    "# Question 1\n",
    "\n",
    "Write your own code(s) to carry out a numerical integration using both the Euler Method and a Runge-Kutta Method (either 2nd order or 4th order).\n",
    "\n",
    "\n",
    "## a\n",
    "\n",
    "Use your code to solve the equation\n",
    "\n",
    "$$ \\frac{dy}{dx} = y^2 + 1 $$\n",
    "\n",
    "and compare your answer with the exact solution $y = \\tan(x)$. Also compare (and show\n",
    "and comment on) your results for both the Euler and Runge-Kutta methods, using the same number of steps for each.\n",
    "\n",
    "## b\n",
    "\n",
    "At what value of x does your numerical solution start to break down, and how does that relate to the derivative of $y(x)$? Use a plot and/or table of numbers to show this breakdown.\n",
    "\n",
    "## c\n",
    "Show that a decrease in step size increases your accuracy. Do you notice a difference in how much the accuracy improves for the Euler method, versus the Runge-Kutta?\n",
    "\n",
    "## d\n",
    "\n",
    "Pretend like you don't know the exact solution to the equation above. Do a convergence study, calculating the fractional difference between your highest-resolution (smallest step- size) case and a few other lower-resolution cases (make a range of step sizes over at least a factor of 10-100). Plot the fractional difference as a function of step size on a log-log scale. Show the Euler and Runge-Kutta methods on the same plot. The slope in this log- log plot is often referred to as the order of convergence. Comment on what you see.\n",
    "\n",
    "## e\n",
    "\n",
    "Now consider the exact/known solution. Does your smallest fractional difference, between your two highest-resolution cases, well-represent the actual difference between your best solution and the exact solution (i.e., is this a good measure of the uncertainty in your result)?\n",
    "\n",
    "___"
   ]
  },
  {
   "cell_type": "code",
   "execution_count": 25,
   "id": "be157d99",
   "metadata": {},
   "outputs": [],
   "source": [
    "import matplotlib.pyplot as plt\n",
    "import numpy as np"
   ]
  },
  {
   "cell_type": "markdown",
   "id": "8aba10e2",
   "metadata": {},
   "source": [
    "## 1a\n",
    "\n",
    "We first code our differential equation:\n",
    "\n",
    "$$\n",
    "\\frac{dy}{dx} = y^2 + 1 = f(x,y)\n",
    "$$"
   ]
  },
  {
   "cell_type": "code",
   "execution_count": 4,
   "id": "216938a9",
   "metadata": {},
   "outputs": [],
   "source": [
    "def dydx(x,y):\n",
    "    return y**2 + 1"
   ]
  },
  {
   "cell_type": "code",
   "execution_count": 45,
   "id": "8d041fe0",
   "metadata": {},
   "outputs": [],
   "source": [
    "#we now code RK2 (Heun's Method):\n",
    "def RK2(function,y0,x0,xf,num_of_steps):\n",
    "    '''\n",
    "    inputs:\n",
    "        - function:\n",
    "        - y0:\n",
    "        - x0:\n",
    "        - xf:\n",
    "        - num_of_steps:\n",
    "    outputs:\n",
    "        - results\n",
    "    '''\n",
    "    #we calculate the step size from the given boundary points and\n",
    "    #num. of steps\n",
    "    step_size = (xf - x0)/num_of_steps\n",
    "    #we initialize our xi and yi to be the initial x and y given\n",
    "    yi = y0\n",
    "    xi = x0\n",
    "    #initialize our stepper\n",
    "    stepper = x0\n",
    "    #initialize lists to write x and y values to:\n",
    "    x_lst,y_lst = [],[]\n",
    "    while stepper <= xf:\n",
    "        x_lst += [xi]\n",
    "        y_lst += [yi]\n",
    "        #print(xi,yi)\n",
    "        k1 = function(xi,yi)\n",
    "        k2 = function(xi + step_size,yi + k1*step_size)\n",
    "        y_next = yi + (1/2)*(k1 + k2)*step_size\n",
    "        x_next = xi + step_size\n",
    "        yi = y_next\n",
    "        xi = x_next\n",
    "        stepper += step_size\n",
    "        \n",
    "    return x_lst,y_lst\n",
    "        \n",
    "        "
   ]
  },
  {
   "cell_type": "code",
   "execution_count": 61,
   "id": "20b14c65",
   "metadata": {},
   "outputs": [
    {
     "data": {
      "text/plain": [
       "-1.7320508075688767"
      ]
     },
     "execution_count": 61,
     "metadata": {},
     "output_type": "execute_result"
    }
   ],
   "source": [
    "np.tan(-np.pi/3)"
   ]
  },
  {
   "cell_type": "code",
   "execution_count": 62,
   "id": "606f16e3",
   "metadata": {},
   "outputs": [
    {
     "data": {
      "text/plain": [
       "1.0471975511965976"
      ]
     },
     "execution_count": 62,
     "metadata": {},
     "output_type": "execute_result"
    }
   ],
   "source": [
    "np.pi/3"
   ]
  },
  {
   "cell_type": "code",
   "execution_count": 79,
   "id": "80446902",
   "metadata": {},
   "outputs": [],
   "source": [
    "xinitial,xfinal = -np.pi/2.09,np.pi/2.09\n",
    "yinitial = np.tan(xinitial)\n",
    "num_of_steps = 50\n",
    "x_lst,y_lst = RK2(dydx,yinitial,xinitial,xfinal,num_of_steps)\n",
    "\n",
    "tan_x_values = np.linspace(xinitial,xfinal,num_of_steps)\n",
    "tan_y_values = np.tan(tan_x_values)"
   ]
  },
  {
   "cell_type": "code",
   "execution_count": 80,
   "id": "83cdad7c",
   "metadata": {},
   "outputs": [
    {
     "data": {
      "image/png": "[encoded data removed]",
      "text/plain": [
       "<Figure size 640x480 with 1 Axes>"
      ]
     },
     "metadata": {},
     "output_type": "display_data"
    }
   ],
   "source": [
    "plt.scatter(x_lst,y_lst,s=5,color='black')\n",
    "plt.plot(tan_x_values,tan_y_values,linestyle='--',color='black')\n",
    "plt.show()"
   ]
  },
  {
   "cell_type": "code",
   "execution_count": null,
   "id": "a1b6a64b",
   "metadata": {},
   "outputs": [],
   "source": []
  }
 ],
 "metadata": {
  "kernelspec": {
   "display_name": "Python 3 (ipykernel)",
   "language": "python",
   "name": "python3"
  },
  "language_info": {
   "codemirror_mode": {
    "name": "ipython",
    "version": 3
   },
   "file_extension": ".py",
   "mimetype": "text/x-python",
   "name": "python",
   "nbconvert_exporter": "python",
   "pygments_lexer": "ipython3",
   "version": "3.10.9"
  }
 },
 "nbformat": 4,
 "nbformat_minor": 5
}
