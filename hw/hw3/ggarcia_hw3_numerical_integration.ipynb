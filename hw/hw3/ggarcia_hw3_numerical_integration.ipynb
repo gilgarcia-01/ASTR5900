{
 "cells": [
  {
   "cell_type": "markdown",
   "id": "92f732e0",
   "metadata": {},
   "source": [
    "Garcia, Gilberto\n",
    "\n",
    "ASTR5900\n",
    "\n",
    "HW3 - Numerical Integration\n",
    "\n",
    "14 February 2024\n",
    "\n",
    "\n",
    "____"
   ]
  },
  {
   "cell_type": "markdown",
   "id": "3e028722",
   "metadata": {},
   "source": [
    "# Question 1\n",
    "\n",
    "Write your own code(s) to carry out a numerical integration using both the Euler Method and a Runge-Kutta Method (either 2nd order or 4th order).\n",
    "\n",
    "\n",
    "## a\n",
    "\n",
    "Use your code to solve the equation\n",
    "\n",
    "$$ \\frac{dy}{dx} = y^2 + 1 $$\n",
    "\n",
    "and compare your answer with the exact solution $y = \\tan(x)$. Also compare (and show\n",
    "and comment on) your results for both the Euler and Runge-Kutta methods, using the same number of steps for each.\n",
    "\n",
    "## b\n",
    "\n",
    "At what value of x does your numerical solution start to break down, and how does that relate to the derivative of $y(x)$? Use a plot and/or table of numbers to show this breakdown.\n",
    "\n",
    "## c\n",
    "Show that a decrease in step size increases your accuracy. Do you notice a difference in how much the accuracy improves for the Euler method, versus the Runge-Kutta?\n",
    "\n",
    "## d\n",
    "\n",
    "Pretend like you don't know the exact solution to the equation above. Do a convergence study, calculating the fractional difference between your highest-resolution (smallest step- size) case and a few other lower-resolution cases (make a range of step sizes over at least a factor of 10-100). Plot the fractional difference as a function of step size on a log-log scale. Show the Euler and Runge-Kutta methods on the same plot. The slope in this log- log plot is often referred to as the order of convergence. Comment on what you see.\n",
    "\n",
    "## e\n",
    "\n",
    "Now consider the exact/known solution. Does your smallest fractional difference, between your two highest-resolution cases, well-represent the actual difference between your best solution and the exact solution (i.e., is this a good measure of the uncertainty in your result)?"
   ]
  },
  {
   "cell_type": "code",
   "execution_count": null,
   "id": "183c1cf1",
   "metadata": {},
   "outputs": [],
   "source": []
  }
 ],
 "metadata": {
  "kernelspec": {
   "display_name": "Python 3 (ipykernel)",
   "language": "python",
   "name": "python3"
  },
  "language_info": {
   "codemirror_mode": {
    "name": "ipython",
    "version": 3
   },
   "file_extension": ".py",
   "mimetype": "text/x-python",
   "name": "python",
   "nbconvert_exporter": "python",
   "pygments_lexer": "ipython3",
   "version": "3.10.11"
  }
 },
 "nbformat": 4,
 "nbformat_minor": 5
}
